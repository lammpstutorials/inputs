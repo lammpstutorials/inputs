{
 "cells": [
  {
   "cell_type": "code",
   "execution_count": null,
   "metadata": {},
   "outputs": [],
   "source": [
    "from MDAnalysis.analysis.hydrogenbonds.hbond_analysis import HydrogenBondAnalysis as HBA\n",
    "import MDAnalysis as mda\n",
    "import numpy as np"
   ]
  },
  {
   "cell_type": "code",
   "execution_count": null,
   "metadata": {},
   "outputs": [],
   "source": [
    "path_to_data = \"../../level2/polymer-in-water/mergePEGH2O/\"\n",
    "u = mda.Universe(path_to_data + \"mix.data\", \n",
    "                 path_to_data + \"dump.lammpstrj\",\n",
    "                 topology_format=\"data\",\n",
    "                 format=\"lammpsdump\")"
   ]
  },
  {
   "cell_type": "code",
   "execution_count": null,
   "metadata": {},
   "outputs": [],
   "source": [
    "peg = u.select_atoms(\"type 1 2 3 4 5 6 7\")\n",
    "h2o = u.select_atoms(\"type 8 9\")"
   ]
  },
  {
   "cell_type": "code",
   "execution_count": null,
   "metadata": {},
   "outputs": [],
   "source": [
    "print(\"atoms in peg:\", peg.atoms.n_atoms)\n",
    "print(\"atoms in h2o:\", h2o.atoms.n_atoms)"
   ]
  },
  {
   "cell_type": "code",
   "execution_count": null,
   "metadata": {},
   "outputs": [],
   "source": [
    "for atom in peg[:6]:\n",
    "    id = atom.id\n",
    "    type = atom.type\n",
    "    mass = atom.mass\n",
    "    charge = np.round(atom.charge,2)\n",
    "    print(\"Atom id:\", id, \"type:\", type, \"mass:\", mass, \"g/mol charge:\", charge, \"e\")"
   ]
  },
  {
   "cell_type": "code",
   "execution_count": null,
   "metadata": {},
   "outputs": [],
   "source": [
    "atom1 = peg[0]\n",
    "position_vs_time = []\n",
    "for ts in u.trajectory:\n",
    "    x, y, z = atom1.position\n",
    "    position_vs_time.append([ts.frame, x, y, z])\n",
    "np.savetxt(\"position_vs_time.dat\", np.array(position_vs_time))"
   ]
  }
 ],
 "metadata": {
  "kernelspec": {
   "display_name": "Python 3.8.10 64-bit",
   "language": "python",
   "name": "python3"
  },
  "language_info": {
   "codemirror_mode": {
    "name": "ipython",
    "version": 3
   },
   "file_extension": ".py",
   "mimetype": "text/x-python",
   "name": "python",
   "nbconvert_exporter": "python",
   "pygments_lexer": "ipython3",
   "version": "3.11.4"
  },
  "vscode": {
   "interpreter": {
    "hash": "916dbcbb3f70747c44a77c7bcd40155683ae19c65e1c03b4aa3499c5328201f1"
   }
  }
 },
 "nbformat": 4,
 "nbformat_minor": 4
}
